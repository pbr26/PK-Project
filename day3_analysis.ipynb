{
 "cells": [
  {
   "cell_type": "code",
   "execution_count": null,
   "id": "1a0bc6e3-3448-4f44-8635-a048c1415d88",
   "metadata": {},
   "outputs": [],
   "source": [
    "# Day 3 — JupyterLab: PK exploratory analysis\n",
    "- Load dataset, plot linear & semi-log curves, compute AUC, estimate k and t1/2.\n",
    "- File: example_pk_data.csv\n",
    "- Output figures saved in `figures/`\n"
   ]
  },
  {
   "cell_type": "code",
   "execution_count": 3,
   "id": "4827850c-2047-4431-810f-ff29e0bdc23e",
   "metadata": {},
   "outputs": [
    {
     "name": "stdout",
     "output_type": "stream",
     "text": [
      "Python executable: sys not imported\n",
      "Current working directory: /home/pramood/pk-project\n"
     ]
    }
   ],
   "source": [
    "# — environment & imports\n",
    "%matplotlib inline\n",
    "import os\n",
    "import pandas as pd\n",
    "import numpy as np\n",
    "import matplotlib.pyplot as plt\n",
    "\n",
    "print(\"Python executable:\", sys.executable if 'sys' in globals() else \"sys not imported\")\n",
    "print(\"Current working directory:\", os.getcwd())\n"
   ]
  },
  {
   "cell_type": "code",
   "execution_count": 9,
   "id": "d8dc9bdc-5171-4eab-93b4-41263b2065e1",
   "metadata": {},
   "outputs": [
    {
     "name": "stdout",
     "output_type": "stream",
     "text": [
      "CSV exists: True\n"
     ]
    },
    {
     "data": {
      "text/html": [
       "<div>\n",
       "<style scoped>\n",
       "    .dataframe tbody tr th:only-of-type {\n",
       "        vertical-align: middle;\n",
       "    }\n",
       "\n",
       "    .dataframe tbody tr th {\n",
       "        vertical-align: top;\n",
       "    }\n",
       "\n",
       "    .dataframe thead th {\n",
       "        text-align: right;\n",
       "    }\n",
       "</style>\n",
       "<table border=\"1\" class=\"dataframe\">\n",
       "  <thead>\n",
       "    <tr style=\"text-align: right;\">\n",
       "      <th></th>\n",
       "      <th>SubjectID</th>\n",
       "      <th>Dose_mg</th>\n",
       "      <th>Route</th>\n",
       "      <th>Time_hr</th>\n",
       "      <th>Conc_ng_per_mL</th>\n",
       "      <th>Age_yrs</th>\n",
       "      <th>Weight_kg</th>\n",
       "    </tr>\n",
       "  </thead>\n",
       "  <tbody>\n",
       "    <tr>\n",
       "      <th>0</th>\n",
       "      <td>1</td>\n",
       "      <td>100</td>\n",
       "      <td>IV</td>\n",
       "      <td>0.25</td>\n",
       "      <td>150</td>\n",
       "      <td>35</td>\n",
       "      <td>70</td>\n",
       "    </tr>\n",
       "    <tr>\n",
       "      <th>1</th>\n",
       "      <td>1</td>\n",
       "      <td>100</td>\n",
       "      <td>IV</td>\n",
       "      <td>0.50</td>\n",
       "      <td>130</td>\n",
       "      <td>35</td>\n",
       "      <td>70</td>\n",
       "    </tr>\n",
       "    <tr>\n",
       "      <th>2</th>\n",
       "      <td>1</td>\n",
       "      <td>100</td>\n",
       "      <td>IV</td>\n",
       "      <td>1.00</td>\n",
       "      <td>110</td>\n",
       "      <td>35</td>\n",
       "      <td>70</td>\n",
       "    </tr>\n",
       "    <tr>\n",
       "      <th>3</th>\n",
       "      <td>1</td>\n",
       "      <td>100</td>\n",
       "      <td>IV</td>\n",
       "      <td>2.00</td>\n",
       "      <td>90</td>\n",
       "      <td>35</td>\n",
       "      <td>70</td>\n",
       "    </tr>\n",
       "    <tr>\n",
       "      <th>4</th>\n",
       "      <td>1</td>\n",
       "      <td>100</td>\n",
       "      <td>IV</td>\n",
       "      <td>4.00</td>\n",
       "      <td>60</td>\n",
       "      <td>35</td>\n",
       "      <td>70</td>\n",
       "    </tr>\n",
       "  </tbody>\n",
       "</table>\n",
       "</div>"
      ],
      "text/plain": [
       "   SubjectID  Dose_mg Route  Time_hr  Conc_ng_per_mL  Age_yrs  Weight_kg\n",
       "0          1      100    IV     0.25             150       35         70\n",
       "1          1      100    IV     0.50             130       35         70\n",
       "2          1      100    IV     1.00             110       35         70\n",
       "3          1      100    IV     2.00              90       35         70\n",
       "4          1      100    IV     4.00              60       35         70"
      ]
     },
     "execution_count": 9,
     "metadata": {},
     "output_type": "execute_result"
    }
   ],
   "source": [
    "csv_path = \"example_pk_data.csv\"   \n",
    "print(\"CSV exists:\", os.path.exists(csv_path))\n",
    "df = pd.read_csv(csv_path)\n",
    "df.head()\n",
    "\n"
   ]
  },
  {
   "cell_type": "code",
   "execution_count": 10,
   "id": "84214826-2e99-46ce-9f3d-75e7134523dd",
   "metadata": {},
   "outputs": [
    {
     "name": "stdout",
     "output_type": "stream",
     "text": [
      "Columns: ['SubjectID', 'Dose_mg', 'Route', 'Time_hr', 'Conc_ng_per_mL', 'Age_yrs', 'Weight_kg']\n"
     ]
    },
    {
     "data": {
      "text/html": [
       "<div>\n",
       "<style scoped>\n",
       "    .dataframe tbody tr th:only-of-type {\n",
       "        vertical-align: middle;\n",
       "    }\n",
       "\n",
       "    .dataframe tbody tr th {\n",
       "        vertical-align: top;\n",
       "    }\n",
       "\n",
       "    .dataframe thead th {\n",
       "        text-align: right;\n",
       "    }\n",
       "</style>\n",
       "<table border=\"1\" class=\"dataframe\">\n",
       "  <thead>\n",
       "    <tr style=\"text-align: right;\">\n",
       "      <th></th>\n",
       "      <th>SubjectID</th>\n",
       "      <th>Dose_mg</th>\n",
       "      <th>Route</th>\n",
       "      <th>Time_hr</th>\n",
       "      <th>Conc_ng_per_mL</th>\n",
       "      <th>Age_yrs</th>\n",
       "      <th>Weight_kg</th>\n",
       "      <th>conc_mg_per_L</th>\n",
       "    </tr>\n",
       "  </thead>\n",
       "  <tbody>\n",
       "    <tr>\n",
       "      <th>0</th>\n",
       "      <td>1</td>\n",
       "      <td>100</td>\n",
       "      <td>IV</td>\n",
       "      <td>0.25</td>\n",
       "      <td>150</td>\n",
       "      <td>35</td>\n",
       "      <td>70</td>\n",
       "      <td>0.15</td>\n",
       "    </tr>\n",
       "    <tr>\n",
       "      <th>1</th>\n",
       "      <td>1</td>\n",
       "      <td>100</td>\n",
       "      <td>IV</td>\n",
       "      <td>0.50</td>\n",
       "      <td>130</td>\n",
       "      <td>35</td>\n",
       "      <td>70</td>\n",
       "      <td>0.13</td>\n",
       "    </tr>\n",
       "    <tr>\n",
       "      <th>2</th>\n",
       "      <td>1</td>\n",
       "      <td>100</td>\n",
       "      <td>IV</td>\n",
       "      <td>1.00</td>\n",
       "      <td>110</td>\n",
       "      <td>35</td>\n",
       "      <td>70</td>\n",
       "      <td>0.11</td>\n",
       "    </tr>\n",
       "    <tr>\n",
       "      <th>3</th>\n",
       "      <td>1</td>\n",
       "      <td>100</td>\n",
       "      <td>IV</td>\n",
       "      <td>2.00</td>\n",
       "      <td>90</td>\n",
       "      <td>35</td>\n",
       "      <td>70</td>\n",
       "      <td>0.09</td>\n",
       "    </tr>\n",
       "    <tr>\n",
       "      <th>4</th>\n",
       "      <td>1</td>\n",
       "      <td>100</td>\n",
       "      <td>IV</td>\n",
       "      <td>4.00</td>\n",
       "      <td>60</td>\n",
       "      <td>35</td>\n",
       "      <td>70</td>\n",
       "      <td>0.06</td>\n",
       "    </tr>\n",
       "  </tbody>\n",
       "</table>\n",
       "</div>"
      ],
      "text/plain": [
       "   SubjectID  Dose_mg Route  Time_hr  Conc_ng_per_mL  Age_yrs  Weight_kg  \\\n",
       "0          1      100    IV     0.25             150       35         70   \n",
       "1          1      100    IV     0.50             130       35         70   \n",
       "2          1      100    IV     1.00             110       35         70   \n",
       "3          1      100    IV     2.00              90       35         70   \n",
       "4          1      100    IV     4.00              60       35         70   \n",
       "\n",
       "   conc_mg_per_L  \n",
       "0           0.15  \n",
       "1           0.13  \n",
       "2           0.11  \n",
       "3           0.09  \n",
       "4           0.06  "
      ]
     },
     "execution_count": 10,
     "metadata": {},
     "output_type": "execute_result"
    }
   ],
   "source": [
    "print(\"Columns:\", list(df.columns))\n",
    "\n",
    "# adapt to your file's column names — adjust if names differ\n",
    "# this CSV uses: Time_hr, Conc_ng_per_mL, SubjectID\n",
    "df = df.rename(columns=lambda s: s.strip())  # trim whitespace if any\n",
    "\n",
    "# create consistent columns\n",
    "time_col = \"Time_hr\"\n",
    "conc_col = \"Conc_ng_per_mL\"\n",
    "subject_col = \"SubjectID\"\n",
    "\n",
    "# convert conc -> mg/L (ng/mL -> mg/L)\n",
    "df[\"conc_mg_per_L\"] = df[conc_col] / 1000.0\n",
    "\n",
    "# sort for safety\n",
    "df = df.sort_values([subject_col, time_col])\n",
    "df.head()\n"
   ]
  },
  {
   "cell_type": "code",
   "execution_count": 11,
   "id": "420a44d3-e3be-4050-9f87-8c99a030e03f",
   "metadata": {},
   "outputs": [
    {
     "data": {
      "image/png": "[encoded data removed]",
      "text/plain": [
       "<Figure size 600x400 with 1 Axes>"
      ]
     },
     "metadata": {},
     "output_type": "display_data"
    },
    {
     "name": "stdout",
     "output_type": "stream",
     "text": [
      "Saved: figures/pk_subject1_linear.png\n"
     ]
    },
    {
     "data": {
      "image/png": "[encoded data removed]",
      "text/plain": [
       "<Figure size 600x400 with 1 Axes>"
      ]
     },
     "metadata": {},
     "output_type": "display_data"
    },
    {
     "name": "stdout",
     "output_type": "stream",
     "text": [
      "Saved: figures/pk_subject1_semilog.png\n"
     ]
    }
   ],
   "source": [
    "# select subject\n",
    "subject_id = 1         # change if you want other subject\n",
    "df_sub = df[df[subject_col] == subject_id].copy()\n",
    "df_sub = df_sub.sort_values(time_col)\n",
    "\n",
    "# create figures folder\n",
    "fig_dir = \"figures\"\n",
    "os.makedirs(fig_dir, exist_ok=True)\n",
    "\n",
    "# linear plot\n",
    "save_linear = os.path.join(fig_dir, f\"pk_subject{subject_id}_linear.png\")\n",
    "plt.figure(figsize=(6,4))\n",
    "plt.plot(df_sub[time_col], df_sub[\"conc_mg_per_L\"], 'o-', linewidth=1.5)\n",
    "plt.xlabel(\"Time (h)\")\n",
    "plt.ylabel(\"Concentration (mg/L)\")\n",
    "plt.title(f\"Subject {subject_id} - PK Profile (linear)\")\n",
    "plt.grid(True)\n",
    "plt.savefig(save_linear, dpi=150, bbox_inches='tight')\n",
    "plt.show()\n",
    "plt.close()\n",
    "print(\"Saved:\", save_linear)\n",
    "\n",
    "# semi-log plot\n",
    "save_semi = os.path.join(fig_dir, f\"pk_subject{subject_id}_semilog.png\")\n",
    "plt.figure(figsize=(6,4))\n",
    "plt.semilogy(df_sub[time_col], df_sub[\"conc_mg_per_L\"], 'o-', linewidth=1.5)\n",
    "plt.xlabel(\"Time (h)\")\n",
    "plt.ylabel(\"Concentration (mg/L) - log scale\")\n",
    "plt.title(f\"Subject {subject_id} - PK Profile (semi-log)\")\n",
    "plt.grid(True, which='both', ls='--')\n",
    "plt.savefig(save_semi, dpi=150, bbox_inches='tight')\n",
    "plt.show()\n",
    "plt.close()\n",
    "print(\"Saved:\", save_semi)\n"
   ]
  },
  {
   "cell_type": "code",
   "execution_count": 13,
   "id": "fcd56a9f-291b-4456-83d8-512e0371b513",
   "metadata": {},
   "outputs": [
    {
     "name": "stdout",
     "output_type": "stream",
     "text": [
      "Subject 1 AUC (0-last) =0.440000 mg h/L\n"
     ]
    }
   ],
   "source": [
    "# compute AUC (0 -last observed time) using trapezoidal rule\n",
    "t=df_sub[time_col].values\n",
    "c=df_sub[\"conc_mg_per_L\"].values\n",
    "auc=np.trapezoid(c,t)\n",
    "print(f\"Subject {subject_id} AUC (0-last) ={auc:.6f} mg h/L\")"
   ]
  },
  {
   "cell_type": "code",
   "execution_count": 18,
   "id": "4064c5b2-5b78-42d9-afdc-36c07eb476d0",
   "metadata": {},
   "outputs": [
    {
     "name": "stdout",
     "output_type": "stream",
     "text": [
      "Estimated k=0.2273141/h\n",
      "Estimated t1/2=3.049h\n"
     ]
    }
   ],
   "source": [
    "# choose elimination phase points (adjust threshold if needed)\n",
    "elim_threshold=1.0 #hours - change if your data suggests different\n",
    "elim_mask=df_sub[time_col]>=elim_threshold\n",
    "\n",
    "t_elim=df_sub.loc[elim_mask, time_col].values\n",
    "c_elim=df_sub.loc[elim_mask, \"conc_mg_per_L\"].values\n",
    "\n",
    "#safety: need at least 2 points\n",
    "if len (t_elim) < 2:\n",
    "    print(\"Not enough elimination-phase points - choose lower threshold or inspect data.\")\n",
    "else:\n",
    "    lnC=np.log(c_elim)\n",
    "    slope,intercept =np.polyfit(t_elim,lnC,1)\n",
    "    k_est=-slope\n",
    "    t_half=np.log(2)/k_est if k_est>0 else np.nan\n",
    "    print(f\"Estimated k={k_est :.6f}1/h\")\n",
    "    print(f\"Estimated t1/2={t_half:.3f}h\")"
   ]
  },
  {
   "cell_type": "code",
   "execution_count": 19,
   "id": "449172c1-6112-4119-8782-8042addadd84",
   "metadata": {},
   "outputs": [
    {
     "data": {
      "image/png": "[encoded data removed]",
      "text/plain": [
       "<Figure size 600x400 with 1 Axes>"
      ]
     },
     "metadata": {},
     "output_type": "display_data"
    }
   ],
   "source": [
    "if len(t_elim) >= 2:\n",
    "    t_fit = np.linspace(t_elim.min(), t_elim.max(), 100)\n",
    "    c_fit = np.exp(intercept + slope * t_fit)\n",
    "\n",
    "    plt.figure(figsize=(6,4))\n",
    "    plt.semilogy(df_sub[time_col], df_sub[\"conc_mg_per_L\"], 'o', label='observed')\n",
    "    plt.semilogy(t_fit, c_fit, '-', label='log-linear fit')\n",
    "    plt.xlabel(\"Time (h)\")\n",
    "    plt.ylabel(\"Concentration (mg/L)\")\n",
    "    plt.title(f\"Subject {subject_id} - Elimination fit\")\n",
    "    plt.legend()\n",
    "    plt.grid(True, which='both', ls='--')\n",
    "    plt.show()\n"
   ]
  },
  {
   "cell_type": "code",
   "execution_count": 21,
   "id": "ddb0c0b4-20f7-4d58-a6ec-6ad5de27a8fa",
   "metadata": {},
   "outputs": [
    {
     "data": {
      "text/html": [
       "<div>\n",
       "<style scoped>\n",
       "    .dataframe tbody tr th:only-of-type {\n",
       "        vertical-align: middle;\n",
       "    }\n",
       "\n",
       "    .dataframe tbody tr th {\n",
       "        vertical-align: top;\n",
       "    }\n",
       "\n",
       "    .dataframe thead th {\n",
       "        text-align: right;\n",
       "    }\n",
       "</style>\n",
       "<table border=\"1\" class=\"dataframe\">\n",
       "  <thead>\n",
       "    <tr style=\"text-align: right;\">\n",
       "      <th></th>\n",
       "      <th>Subject</th>\n",
       "      <th>AUC_mg_h_L</th>\n",
       "      <th>k_1_per_h</th>\n",
       "      <th>t1_2_h</th>\n",
       "    </tr>\n",
       "  </thead>\n",
       "  <tbody>\n",
       "    <tr>\n",
       "      <th>0</th>\n",
       "      <td>1</td>\n",
       "      <td>0.44000</td>\n",
       "      <td>0.227314</td>\n",
       "      <td>3.049298</td>\n",
       "    </tr>\n",
       "    <tr>\n",
       "      <th>1</th>\n",
       "      <td>2</td>\n",
       "      <td>0.47125</td>\n",
       "      <td>0.209711</td>\n",
       "      <td>3.305253</td>\n",
       "    </tr>\n",
       "    <tr>\n",
       "      <th>2</th>\n",
       "      <td>3</td>\n",
       "      <td>0.41125</td>\n",
       "      <td>0.248538</td>\n",
       "      <td>2.788901</td>\n",
       "    </tr>\n",
       "  </tbody>\n",
       "</table>\n",
       "</div>"
      ],
      "text/plain": [
       "   Subject  AUC_mg_h_L  k_1_per_h    t1_2_h\n",
       "0        1     0.44000   0.227314  3.049298\n",
       "1        2     0.47125   0.209711  3.305253\n",
       "2        3     0.41125   0.248538  2.788901"
      ]
     },
     "execution_count": 21,
     "metadata": {},
     "output_type": "execute_result"
    }
   ],
   "source": [
    "subjects = sorted(df[subject_col].unique())\n",
    "summary = []\n",
    "\n",
    "for s in subjects:\n",
    "    df_s = df[df[subject_col]==s].sort_values(time_col)\n",
    "    t = df_s[time_col].values\n",
    "    c = df_s[\"conc_mg_per_L\"].values\n",
    "    auc_s = np.trapezoid(c, t)\n",
    "    \n",
    "    # elimination fit - choose threshold adaptively (e.g., > median time/3)\n",
    "    \n",
    "    mask = t >= np.median(t)/2.0\n",
    "    t_el = t[mask]\n",
    "    c_el = c[mask]\n",
    "    if len(t_el) >= 2 and np.all(c_el>0):\n",
    "        slope, intercept = np.polyfit(t_el, np.log(c_el), 1)\n",
    "        k_s = -slope\n",
    "        t_half_s = np.log(2)/k_s if k_s>0 else np.nan\n",
    "    else:\n",
    "        k_s = np.nan\n",
    "        t_half_s = np.nan\n",
    "    summary.append({\"Subject\": s, \"AUC_mg_h_L\": auc_s, \"k_1_per_h\": k_s, \"t1_2_h\": t_half_s})\n",
    "\n",
    "summary_df = pd.DataFrame(summary)\n",
    "summary_df\n"
   ]
  },
  {
   "cell_type": "code",
   "execution_count": 22,
   "id": "a0871897-b67e-41b4-8fa2-b4be87275881",
   "metadata": {},
   "outputs": [
    {
     "name": "stdout",
     "output_type": "stream",
     "text": [
      "Saved summary to figures/pk_summary_table.csv\n"
     ]
    }
   ],
   "source": [
    "summary_df.to_csv(os.path.join(fig_dir, \"pk_summary_table.csv\"), index=False)\n",
    "print(\"Saved summary to\", os.path.join(fig_dir, \"pk_summary_table.csv\"))\n"
   ]
  },
  {
   "cell_type": "code",
   "execution_count": 26,
   "id": "05cc4ada-8958-45ec-858c-920e401ac6d5",
   "metadata": {},
   "outputs": [
    {
     "name": "stdout",
     "output_type": "stream",
     "text": [
      "/home/pramood/pk-project\n",
      "total 176\n",
      "drwxrwxr-x  6 pramood pramood   4096 Sep 20 10:36  .\n",
      "drwxr-x--- 48 pramood pramood   4096 Sep 19 20:25  ..\n",
      "-rw-rw-r--  1 pramood pramood    455 Sep 19 20:39  analyze_pk.py\n",
      "drwxrwxr-x  3 pramood pramood   4096 Sep 20 09:47  data\n",
      "-rw-rw-r--  1 pramood pramood 140007 Sep 20 10:36 'Day 3_Analysis.ipynb'\n",
      "-rw-rw-r--  1 pramood pramood    449 Sep 19 20:13  example_pk_data.csv\n",
      "drwxrwxr-x  2 pramood pramood   4096 Sep 20 10:18  figures\n",
      "drwxrwxr-x  8 pramood pramood   4096 Sep 19 20:40  .git\n",
      "drwxrwxr-x  2 pramood pramood   4096 Sep 20 09:47  .ipynb_checkpoints\n",
      "-rw-rw-r--  1 pramood pramood     21 Sep 19 19:49  README.md\n",
      "On branch main\n",
      "Your branch is ahead of 'origin/main' by 1 commit.\n",
      "  (use \"git push\" to publish your local commits)\n",
      "\n",
      "Changes not staged for commit:\n",
      "  (use \"git add/rm <file>...\" to update what will be committed)\n",
      "  (use \"git restore <file>...\" to discard changes in working directory)\n",
      "\t\u001b[31mdeleted:    data/example_pk_data.csv\u001b[m\n",
      "\n",
      "Untracked files:\n",
      "  (use \"git add <file>...\" to include in what will be committed)\n",
      "\t\u001b[31m.ipynb_checkpoints/\u001b[m\n",
      "\t\u001b[31mDay 3_Analysis.ipynb\u001b[m\n",
      "\t\u001b[31mexample_pk_data.csv\u001b[m\n",
      "\t\u001b[31mfigures/\u001b[m\n",
      "\n",
      "no changes added to commit (use \"git add\" and/or \"git commit -a\")\n"
     ]
    }
   ],
   "source": [
    "!pwd\n",
    "!ls -la\n",
    "!git status\n",
    "\n",
    "\n"
   ]
  },
  {
   "cell_type": "code",
   "execution_count": 27,
   "id": "d1a45d8c-4a6c-4e86-b510-b8390fe3eec9",
   "metadata": {},
   "outputs": [
    {
     "name": "stdout",
     "output_type": "stream",
     "text": [
      "/home/pramood/pk-project\n",
      "-rw-rw-r-- 1 pramood pramood 140007 Sep 20 10:36 'Day 3_Analysis.ipynb'\n"
     ]
    }
   ],
   "source": [
    "!pwd\n",
    "!ls -la *.ipynb\n"
   ]
  },
  {
   "cell_type": "code",
   "execution_count": 28,
   "id": "013162b9-eb91-452e-b9d5-6d86f76d9b04",
   "metadata": {},
   "outputs": [
    {
     "name": "stdout",
     "output_type": "stream",
     "text": [
      "On branch main\n",
      "Your branch is ahead of 'origin/main' by 1 commit.\n",
      "  (use \"git push\" to publish your local commits)\n",
      "\n",
      "Changes not staged for commit:\n",
      "  (use \"git add/rm <file>...\" to update what will be committed)\n",
      "  (use \"git restore <file>...\" to discard changes in working directory)\n",
      "\t\u001b[31mdeleted:    data/example_pk_data.csv\u001b[m\n",
      "\n",
      "Untracked files:\n",
      "  (use \"git add <file>...\" to include in what will be committed)\n",
      "\t\u001b[31m.ipynb_checkpoints/\u001b[m\n",
      "\t\u001b[31mDay 3_Analysis.ipynb\u001b[m\n",
      "\t\u001b[31mexample_pk_data.csv\u001b[m\n",
      "\t\u001b[31mfigures/\u001b[m\n",
      "\n",
      "no changes added to commit (use \"git add\" and/or \"git commit -a\")\n"
     ]
    }
   ],
   "source": [
    "!git status\n"
   ]
  },
  {
   "cell_type": "code",
   "execution_count": 30,
   "id": "926d4f41-3b71-4af0-a89e-33dbfab6646f",
   "metadata": {},
   "outputs": [
    {
     "name": "stdout",
     "output_type": "stream",
     "text": [
      "/home/pramood/pk-project\n",
      "total 176\n",
      "drwxrwxr-x  6 pramood pramood   4096 Sep 20 10:38  .\n",
      "drwxr-x--- 48 pramood pramood   4096 Sep 19 20:25  ..\n",
      "-rw-rw-r--  1 pramood pramood    455 Sep 19 20:39  analyze_pk.py\n",
      "drwxrwxr-x  3 pramood pramood   4096 Sep 20 09:47  data\n",
      "-rw-rw-r--  1 pramood pramood 143021 Sep 20 10:38 'Day 3_Analysis.ipynb'\n",
      "-rw-rw-r--  1 pramood pramood    449 Sep 19 20:13  example_pk_data.csv\n",
      "drwxrwxr-x  2 pramood pramood   4096 Sep 20 10:18  figures\n",
      "drwxrwxr-x  8 pramood pramood   4096 Sep 20 10:38  .git\n",
      "drwxrwxr-x  2 pramood pramood   4096 Sep 20 09:47  .ipynb_checkpoints\n",
      "-rw-rw-r--  1 pramood pramood     21 Sep 19 19:49  README.md\n",
      " D data/example_pk_data.csv\n",
      "?? .ipynb_checkpoints/\n",
      "?? \"Day 3_Analysis.ipynb\"\n",
      "?? example_pk_data.csv\n",
      "?? figures/\n",
      "ls: cannot access 'day3_analysis.ipynb': No such file or directory\n",
      "no day3_analysis.ipynb\n",
      "total 104\n",
      "drwxrwxr-x 2 pramood pramood  4096 Sep 20 10:18 .\n",
      "drwxrwxr-x 6 pramood pramood  4096 Sep 20 10:38 ..\n",
      "-rw-rw-r-- 1 pramood pramood 41498 Sep 20 09:50 pk_subject1_linear.png\n",
      "-rw-rw-r-- 1 pramood pramood 47279 Sep 20 09:50 pk_subject1_semilog.png\n",
      "-rw-rw-r-- 1 pramood pramood   204 Sep 20 10:18 pk_summary_table.csv\n"
     ]
    }
   ],
   "source": [
    "# show repo status and files (notebook cell)\n",
    "!pwd\n",
    "!ls -la\n",
    "!git status --porcelain\n",
    "!ls -la day3_analysis.ipynb || echo \"no day3_analysis.ipynb\"\n",
    "!ls -la figures || echo \"no figures folder\"\n",
    "\n"
   ]
  },
  {
   "cell_type": "code",
   "execution_count": 33,
   "id": "15827d44-7eba-4413-9a2c-d6e462ba0471",
   "metadata": {},
   "outputs": [
    {
     "name": "stdout",
     "output_type": "stream",
     "text": [
      "fatal: pathspec 'Day3_Analysis.ipynb' did not match any files\n",
      " D data/example_pk_data.csv\n",
      "A  figures/pk_subject1_linear.png\n",
      "A  figures/pk_subject1_semilog.png\n",
      "A  figures/pk_summary_table.csv\n",
      "?? .ipynb_checkpoints/\n",
      "?? \"Day 3_Analysis.ipynb\"\n",
      "?? example_pk_data.csv\n"
     ]
    }
   ],
   "source": [
    "!git add Day3_Analysis.ipynb\n",
    "!git add figures/*.png 2>/dev/null || true\n",
    "!git add figures/pk_summary_table.csv 2>/dev/null || true\n",
    "!git status --porcelain\n"
   ]
  },
  {
   "cell_type": "code",
   "execution_count": 36,
   "id": "a5f3e8eb-4d1b-471b-8628-336e981ee29c",
   "metadata": {},
   "outputs": [
    {
     "ename": "SyntaxError",
     "evalue": "invalid syntax (2796326247.py, line 1)",
     "output_type": "error",
     "traceback": [
      "  \u001b[36mCell\u001b[39m\u001b[36m \u001b[39m\u001b[32mIn[36]\u001b[39m\u001b[32m, line 1\u001b[39m\n\u001b[31m    \u001b[39m\u001b[31mmv \"Day3_Analysis.ipynb\" day3_analysis.ipynb\u001b[39m\n       ^\n\u001b[31mSyntaxError\u001b[39m\u001b[31m:\u001b[39m invalid syntax\n"
     ]
    }
   ],
   "source": [
    "mv \"Day3_Analysis.ipynb\" day3_analysis.ipynb\n",
    "# confirm\n",
    "ls -la Day3_Analysis.ipynb\n"
   ]
  },
  {
   "cell_type": "code",
   "execution_count": null,
   "id": "fb400698-9ca8-46c2-a374-03ae291b093d",
   "metadata": {},
   "outputs": [],
   "source": []
  }
 ],
 "metadata": {
  "kernelspec": {
   "display_name": "Python 3 (ipykernel)",
   "language": "python",
   "name": "python3"
  },
  "language_info": {
   "codemirror_mode": {
    "name": "ipython",
    "version": 3
   },
   "file_extension": ".py",
   "mimetype": "text/x-python",
   "name": "python",
   "nbconvert_exporter": "python",
   "pygments_lexer": "ipython3",
   "version": "3.12.3"
  }
 },
 "nbformat": 4,
 "nbformat_minor": 5
}
